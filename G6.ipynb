{
 "cells": [
  {
   "cell_type": "code",
   "execution_count": 1,
   "id": "16e1fc1a-fd15-4747-8d5b-6786cba36b86",
   "metadata": {
    "tags": []
   },
   "outputs": [
    {
     "data": {
      "application/vnd.jupyter.widget-view+json": {
       "model_id": "17feba8b71ba4336885909ca5fcfd424",
       "version_major": 2,
       "version_minor": 0
      },
      "text/plain": [
       "interactive(children=(Text(value='', description='Enter a string:'), Output()), _dom_classes=('widget-interact…"
      ]
     },
     "metadata": {},
     "output_type": "display_data"
    },
    {
     "data": {
      "text/plain": [
       "<function __main__.process_input(user_input)>"
      ]
     },
     "execution_count": 1,
     "metadata": {},
     "output_type": "execute_result"
    }
   ],
   "source": [
    "from ipywidgets import interact, Text\n",
    "\n",
    "def process_input(user_input):\n",
    "    words = []\n",
    "    longest_words = []\n",
    "    shortest_words = []\n",
    "    longest_word_len = 0\n",
    "    shortest_word_len = float('inf')\n",
    "    \n",
    "    word = \"\"\n",
    "    for i, char in enumerate(user_input):\n",
    "        if char.isalpha():\n",
    "            word += char\n",
    "        elif char == ',':\n",
    "            if i < len(user_input) - 1 and (user_input[i+1].isspace() or user_input[i+1] == '\\t'):\n",
    "                continue\n",
    "            else:\n",
    "                word += char\n",
    "        elif word:\n",
    "            words.append(word)\n",
    "            if len(word) > longest_word_len:\n",
    "                longest_words = [word]\n",
    "                longest_word_len = len(word)\n",
    "            elif len(word) == longest_word_len:\n",
    "                longest_words.append(word)\n",
    "            if len(word) < shortest_word_len:\n",
    "                shortest_words = [word]\n",
    "                shortest_word_len = len(word)\n",
    "            elif len(word) == shortest_word_len:\n",
    "                shortest_words.append(word)\n",
    "            word = \"\"\n",
    "    \n",
    "    if word:\n",
    "        words.append(word)\n",
    "        if len(word) > longest_word_len:\n",
    "            longest_words = [word]\n",
    "            longest_word_len = len(word)\n",
    "        elif len(word) == longest_word_len:\n",
    "            longest_words.append(word)\n",
    "        if len(word) < shortest_word_len:\n",
    "            shortest_words = [word]\n",
    "            shortest_word_len = len(word)\n",
    "        elif len(word) == shortest_word_len:\n",
    "            shortest_words.append(word)\n",
    "    \n",
    "    print(\"Words:\")\n",
    "    for word in words:\n",
    "        print(word)\n",
    "    print(\"Total count:\", len(words))\n",
    "    print(\"Longest words:\", longest_words)\n",
    "    print(\"Longest word length:\", longest_word_len)\n",
    "    print(\"Shortest words:\", shortest_words)\n",
    "    print(\"Shortest word length:\", shortest_word_len)\n",
    "\n",
    "interact(process_input, user_input=Text(description=\"Enter a string:\"))"
   ]
  },
  {
   "cell_type": "code",
   "execution_count": null,
   "id": "bf200a5a-1676-481f-b938-e609956ff583",
   "metadata": {},
   "outputs": [],
   "source": []
  }
 ],
 "metadata": {
  "kernelspec": {
   "display_name": "Python 3 (ipykernel)",
   "language": "python",
   "name": "python3"
  },
  "language_info": {
   "codemirror_mode": {
    "name": "ipython",
    "version": 3
   },
   "file_extension": ".py",
   "mimetype": "text/x-python",
   "name": "python",
   "nbconvert_exporter": "python",
   "pygments_lexer": "ipython3",
   "version": "3.11.4"
  }
 },
 "nbformat": 4,
 "nbformat_minor": 5
}
