{
 "cells": [
  {
   "cell_type": "markdown",
   "id": "e704b17a-2fed-4b4c-b021-42af45d43577",
   "metadata": {
    "tags": []
   },
   "source": [
    "# <font color='red'>Github/binder/gist/nbviever test</font>\n",
    "<font color='green'>for demo in lab of <font color='blue'>Programming technologies</font> via online</font>"
   ]
  },
  {
   "cell_type": "code",
   "execution_count": null,
   "id": "32f9efa2-f514-4595-b255-1d987104ade8",
   "metadata": {
    "tags": []
   },
   "outputs": [],
   "source": [
    "from word_finder import wid"
   ]
  },
  {
   "cell_type": "code",
   "execution_count": null,
   "id": "74469348-5326-4bd9-8613-efb3786ab208",
   "metadata": {},
   "outputs": [],
   "source": [
    "wid()"
   ]
  }
 ],
 "metadata": {
  "kernelspec": {
   "display_name": "Python 3 (ipykernel)",
   "language": "python",
   "name": "python3"
  },
  "language_info": {
   "codemirror_mode": {
    "name": "ipython",
    "version": 3
   },
   "file_extension": ".py",
   "mimetype": "text/x-python",
   "name": "python",
   "nbconvert_exporter": "python",
   "pygments_lexer": "ipython3",
   "version": "3.11.4"
  }
 },
 "nbformat": 4,
 "nbformat_minor": 5
}
